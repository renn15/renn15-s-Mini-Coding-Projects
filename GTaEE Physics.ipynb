{
 "cells": [
  {
   "cell_type": "markdown",
   "id": "4b2658d1-47db-4551-af69-245847fd5d27",
   "metadata": {},
   "source": [
    "**PHYSICS PROBLEM: BOM BATU**\n",
    "\n",
    "Team: GTaEE (Graph Theory and Electrodynamics Enthusiast)\n",
    "\n",
    "Competition: IMPACT 4.0 2024\n",
    "\n",
    "Final Stage Physics Problem\n",
    "\n",
    "**Mengimport Library dan Membaca Data**"
   ]
  },
  {
   "cell_type": "code",
   "execution_count": 1,
   "id": "857a5996-51b4-48d0-bc43-8f9d00fec8fb",
   "metadata": {
    "scrolled": true
   },
   "outputs": [
    {
     "data": {
      "text/html": [
       "<div>\n",
       "<style scoped>\n",
       "    .dataframe tbody tr th:only-of-type {\n",
       "        vertical-align: middle;\n",
       "    }\n",
       "\n",
       "    .dataframe tbody tr th {\n",
       "        vertical-align: top;\n",
       "    }\n",
       "\n",
       "    .dataframe thead th {\n",
       "        text-align: right;\n",
       "    }\n",
       "</style>\n",
       "<table border=\"1\" class=\"dataframe\">\n",
       "  <thead>\n",
       "    <tr style=\"text-align: right;\">\n",
       "      <th></th>\n",
       "      <th>bomb_name</th>\n",
       "      <th>E(TJ)</th>\n",
       "      <th>rho(kg/m^3)</th>\n",
       "      <th>t(ms)</th>\n",
       "      <th>r(m)</th>\n",
       "    </tr>\n",
       "  </thead>\n",
       "  <tbody>\n",
       "    <tr>\n",
       "      <th>0</th>\n",
       "      <td>adel</td>\n",
       "      <td>84</td>\n",
       "      <td>1.204</td>\n",
       "      <td>0.000</td>\n",
       "      <td>0</td>\n",
       "    </tr>\n",
       "    <tr>\n",
       "      <th>1</th>\n",
       "      <td>adel</td>\n",
       "      <td>84</td>\n",
       "      <td>1.204</td>\n",
       "      <td>4.167</td>\n",
       "      <td>250</td>\n",
       "    </tr>\n",
       "    <tr>\n",
       "      <th>2</th>\n",
       "      <td>adel</td>\n",
       "      <td>84</td>\n",
       "      <td>1.204</td>\n",
       "      <td>8.333</td>\n",
       "      <td>250</td>\n",
       "    </tr>\n",
       "    <tr>\n",
       "      <th>3</th>\n",
       "      <td>adel</td>\n",
       "      <td>84</td>\n",
       "      <td>1.204</td>\n",
       "      <td>12.500</td>\n",
       "      <td>250</td>\n",
       "    </tr>\n",
       "    <tr>\n",
       "      <th>4</th>\n",
       "      <td>adel</td>\n",
       "      <td>84</td>\n",
       "      <td>1.204</td>\n",
       "      <td>16.667</td>\n",
       "      <td>250</td>\n",
       "    </tr>\n",
       "    <tr>\n",
       "      <th>5</th>\n",
       "      <td>adel</td>\n",
       "      <td>84</td>\n",
       "      <td>1.204</td>\n",
       "      <td>20.833</td>\n",
       "      <td>250</td>\n",
       "    </tr>\n",
       "    <tr>\n",
       "      <th>6</th>\n",
       "      <td>adel</td>\n",
       "      <td>84</td>\n",
       "      <td>1.204</td>\n",
       "      <td>25.000</td>\n",
       "      <td>250</td>\n",
       "    </tr>\n",
       "    <tr>\n",
       "      <th>7</th>\n",
       "      <td>adel</td>\n",
       "      <td>84</td>\n",
       "      <td>1.204</td>\n",
       "      <td>29.167</td>\n",
       "      <td>250</td>\n",
       "    </tr>\n",
       "    <tr>\n",
       "      <th>8</th>\n",
       "      <td>adel</td>\n",
       "      <td>84</td>\n",
       "      <td>1.204</td>\n",
       "      <td>33.333</td>\n",
       "      <td>250</td>\n",
       "    </tr>\n",
       "    <tr>\n",
       "      <th>9</th>\n",
       "      <td>adel</td>\n",
       "      <td>84</td>\n",
       "      <td>1.204</td>\n",
       "      <td>37.500</td>\n",
       "      <td>250</td>\n",
       "    </tr>\n",
       "    <tr>\n",
       "      <th>10</th>\n",
       "      <td>adel</td>\n",
       "      <td>84</td>\n",
       "      <td>1.204</td>\n",
       "      <td>41.667</td>\n",
       "      <td>250</td>\n",
       "    </tr>\n",
       "    <tr>\n",
       "      <th>11</th>\n",
       "      <td>adel</td>\n",
       "      <td>84</td>\n",
       "      <td>1.204</td>\n",
       "      <td>45.833</td>\n",
       "      <td>250</td>\n",
       "    </tr>\n",
       "    <tr>\n",
       "      <th>12</th>\n",
       "      <td>adel</td>\n",
       "      <td>84</td>\n",
       "      <td>1.204</td>\n",
       "      <td>50.000</td>\n",
       "      <td>19623</td>\n",
       "    </tr>\n",
       "    <tr>\n",
       "      <th>13</th>\n",
       "      <td>adel</td>\n",
       "      <td>84</td>\n",
       "      <td>1.204</td>\n",
       "      <td>54.167</td>\n",
       "      <td>250</td>\n",
       "    </tr>\n",
       "    <tr>\n",
       "      <th>14</th>\n",
       "      <td>adel</td>\n",
       "      <td>84</td>\n",
       "      <td>1.204</td>\n",
       "      <td>58.333</td>\n",
       "      <td>250</td>\n",
       "    </tr>\n",
       "    <tr>\n",
       "      <th>15</th>\n",
       "      <td>adel</td>\n",
       "      <td>84</td>\n",
       "      <td>1.204</td>\n",
       "      <td>62.500</td>\n",
       "      <td>250</td>\n",
       "    </tr>\n",
       "    <tr>\n",
       "      <th>16</th>\n",
       "      <td>adel</td>\n",
       "      <td>84</td>\n",
       "      <td>1.204</td>\n",
       "      <td>66.667</td>\n",
       "      <td>250</td>\n",
       "    </tr>\n",
       "    <tr>\n",
       "      <th>17</th>\n",
       "      <td>adel</td>\n",
       "      <td>84</td>\n",
       "      <td>1.204</td>\n",
       "      <td>19623.000</td>\n",
       "      <td>250</td>\n",
       "    </tr>\n",
       "    <tr>\n",
       "      <th>18</th>\n",
       "      <td>adel</td>\n",
       "      <td>84</td>\n",
       "      <td>1.204</td>\n",
       "      <td>75.000</td>\n",
       "      <td>250</td>\n",
       "    </tr>\n",
       "    <tr>\n",
       "      <th>19</th>\n",
       "      <td>adel</td>\n",
       "      <td>84</td>\n",
       "      <td>1.204</td>\n",
       "      <td>79.167</td>\n",
       "      <td>250</td>\n",
       "    </tr>\n",
       "  </tbody>\n",
       "</table>\n",
       "</div>"
      ],
      "text/plain": [
       "   bomb_name  E(TJ)  rho(kg/m^3)      t(ms)   r(m)\n",
       "0       adel     84        1.204      0.000      0\n",
       "1       adel     84        1.204      4.167    250\n",
       "2       adel     84        1.204      8.333    250\n",
       "3       adel     84        1.204     12.500    250\n",
       "4       adel     84        1.204     16.667    250\n",
       "5       adel     84        1.204     20.833    250\n",
       "6       adel     84        1.204     25.000    250\n",
       "7       adel     84        1.204     29.167    250\n",
       "8       adel     84        1.204     33.333    250\n",
       "9       adel     84        1.204     37.500    250\n",
       "10      adel     84        1.204     41.667    250\n",
       "11      adel     84        1.204     45.833    250\n",
       "12      adel     84        1.204     50.000  19623\n",
       "13      adel     84        1.204     54.167    250\n",
       "14      adel     84        1.204     58.333    250\n",
       "15      adel     84        1.204     62.500    250\n",
       "16      adel     84        1.204     66.667    250\n",
       "17      adel     84        1.204  19623.000    250\n",
       "18      adel     84        1.204     75.000    250\n",
       "19      adel     84        1.204     79.167    250"
      ]
     },
     "execution_count": 1,
     "metadata": {},
     "output_type": "execute_result"
    }
   ],
   "source": [
    "import numpy as np\n",
    "import matplotlib.pyplot as plt\n",
    "import pandas as pd\n",
    "\n",
    "rawData = pd.read_csv(\"data.csv\")\n",
    "rawData.head(20)"
   ]
  },
  {
   "cell_type": "markdown",
   "id": "38145234-e21f-49db-9667-0ea63dd58c3f",
   "metadata": {},
   "source": [
    "**Part a: Analisis Dimensi**\n",
    "\n",
    "Jari-jari muka ledakan (r - [L]) bergantung pada tiga variabel:\n",
    "- Energi: E - [M][L]^2[T]^(-2)\n",
    "- Rapat Udara Atmosfer: rho - [M][L]^(-3)\n",
    "- Waktu: t - [T]\n",
    "\n",
    "Hubungan tersebut diekspresikan dengan persamaan:\n",
    "\n",
    "r = c * E^x * rho^y * t^z\n",
    "\n",
    "Dimensi dari persamaan tersebut adalah:\n",
    "- [L] = ([M][L]^2[T]^(-2))^x * ([M][L]^(-3))^y * [T]^z\n",
    "- [L] = [M]^(x+y) * [L]^(2x-3y) * [T]^(-2x+z)\n",
    "\n",
    "Dengan menyamakan pangkat dari kedua ruas, didapat tiga persamaan:\n",
    "- M:   x +  y     = 0 ...(1)\n",
    "- L:  2x - 3y     = 1 ...(2)\n",
    "- T: -2x      + z = 0 ...(3)\n",
    "\n",
    "Olah Persamaan:\n",
    "- Eliminasi x dari (1) dan (2):\n",
    "  - 2(1)-(2): 5y = -1\n",
    "  - y = -1/5\n",
    "- Substitusi y ke (1):\n",
    "  - x = -y\n",
    "  - x = 1/5\n",
    "- Substitusi x ke (3):\n",
    "  - z = 2x\n",
    "  - z = 2/5\n",
    "\n",
    "Didapat **(x, y, z) = (1/5, -1/5, 2/5)** dan persamaan:\n",
    "\n",
    "r = c * E^(1/5) * rho^(-1/5) * t^(2/5)\n",
    "\n",
    "r = c * (E * t^2 / rho)^(1/5)"
   ]
  },
  {
   "cell_type": "markdown",
   "id": "f483bb2a-234a-4024-97c3-71560cd794be",
   "metadata": {},
   "source": [
    "**Part b: Data Fiktif**"
   ]
  },
  {
   "cell_type": "markdown",
   "id": "bdb70cc6-1502-44e3-b438-6c47ef2ade9e",
   "metadata": {},
   "source": [
    "Cek Data Manakah yang Merupakan Data Fiktif"
   ]
  },
  {
   "cell_type": "code",
   "execution_count": 2,
   "id": "f7187a7a-4c34-4b19-a421-25a22ccac285",
   "metadata": {},
   "outputs": [],
   "source": [
    "rawData['fictive'] = 0\n",
    "\n",
    "for column in rawData.columns:\n",
    "    if column == \"bomb_name\":\n",
    "        rawData['fictive'] += rawData[column] == \"19623\"\n",
    "    else:\n",
    "        rawData['fictive'] += rawData[column] == 19623"
   ]
  },
  {
   "cell_type": "markdown",
   "id": "50b881bd-9c1e-4f31-b025-7dbdbaf1d097",
   "metadata": {},
   "source": [
    "Cek Keberadaan Data Fiktif Duplikat\n",
    "(1 baris memiliki dua nilai fiktif)"
   ]
  },
  {
   "cell_type": "code",
   "execution_count": 3,
   "id": "94df8295-e9d7-4ea4-9f18-4750a8bf7ff3",
   "metadata": {},
   "outputs": [
    {
     "name": "stdout",
     "output_type": "stream",
     "text": [
      "0\n"
     ]
    }
   ],
   "source": [
    "rawData['doubleFictive'] = rawData['fictive'] > 1\n",
    "print(rawData['doubleFictive'].sum())"
   ]
  },
  {
   "cell_type": "markdown",
   "id": "1594cbdd-fbb9-4d21-aeef-d7c09707fd19",
   "metadata": {},
   "source": [
    "Tidak ada data fiktif duplikat.\n",
    "\n",
    "Hitung Banyak Data Fiktif"
   ]
  },
  {
   "cell_type": "code",
   "execution_count": 4,
   "id": "6534dbf6-037d-4251-b348-1ba2c089ee01",
   "metadata": {},
   "outputs": [
    {
     "data": {
      "text/plain": [
       "np.int64(131)"
      ]
     },
     "execution_count": 4,
     "metadata": {},
     "output_type": "execute_result"
    }
   ],
   "source": [
    "rawData['fictive'].sum()"
   ]
  },
  {
   "cell_type": "markdown",
   "id": "be7cb8d7-9026-4d34-b7bb-fb493f5e2fa9",
   "metadata": {},
   "source": [
    "Terdapat **131** data fiktif.\n",
    "\n",
    "Filter Data Fiktif"
   ]
  },
  {
   "cell_type": "code",
   "execution_count": 5,
   "id": "cc358246-cb81-4668-bb04-153d8b39e608",
   "metadata": {},
   "outputs": [
    {
     "data": {
      "text/html": [
       "<div>\n",
       "<style scoped>\n",
       "    .dataframe tbody tr th:only-of-type {\n",
       "        vertical-align: middle;\n",
       "    }\n",
       "\n",
       "    .dataframe tbody tr th {\n",
       "        vertical-align: top;\n",
       "    }\n",
       "\n",
       "    .dataframe thead th {\n",
       "        text-align: right;\n",
       "    }\n",
       "</style>\n",
       "<table border=\"1\" class=\"dataframe\">\n",
       "  <thead>\n",
       "    <tr style=\"text-align: right;\">\n",
       "      <th></th>\n",
       "      <th>bomb_name</th>\n",
       "      <th>E(TJ)</th>\n",
       "      <th>rho(kg/m^3)</th>\n",
       "      <th>t(ms)</th>\n",
       "      <th>r(m)</th>\n",
       "    </tr>\n",
       "  </thead>\n",
       "  <tbody>\n",
       "    <tr>\n",
       "      <th>0</th>\n",
       "      <td>adel</td>\n",
       "      <td>84</td>\n",
       "      <td>1.204</td>\n",
       "      <td>0.000</td>\n",
       "      <td>0</td>\n",
       "    </tr>\n",
       "    <tr>\n",
       "      <th>1</th>\n",
       "      <td>adel</td>\n",
       "      <td>84</td>\n",
       "      <td>1.204</td>\n",
       "      <td>4.167</td>\n",
       "      <td>250</td>\n",
       "    </tr>\n",
       "    <tr>\n",
       "      <th>2</th>\n",
       "      <td>adel</td>\n",
       "      <td>84</td>\n",
       "      <td>1.204</td>\n",
       "      <td>8.333</td>\n",
       "      <td>250</td>\n",
       "    </tr>\n",
       "    <tr>\n",
       "      <th>3</th>\n",
       "      <td>adel</td>\n",
       "      <td>84</td>\n",
       "      <td>1.204</td>\n",
       "      <td>12.500</td>\n",
       "      <td>250</td>\n",
       "    </tr>\n",
       "    <tr>\n",
       "      <th>4</th>\n",
       "      <td>adel</td>\n",
       "      <td>84</td>\n",
       "      <td>1.204</td>\n",
       "      <td>16.667</td>\n",
       "      <td>250</td>\n",
       "    </tr>\n",
       "    <tr>\n",
       "      <th>5</th>\n",
       "      <td>adel</td>\n",
       "      <td>84</td>\n",
       "      <td>1.204</td>\n",
       "      <td>20.833</td>\n",
       "      <td>250</td>\n",
       "    </tr>\n",
       "    <tr>\n",
       "      <th>6</th>\n",
       "      <td>adel</td>\n",
       "      <td>84</td>\n",
       "      <td>1.204</td>\n",
       "      <td>25.000</td>\n",
       "      <td>250</td>\n",
       "    </tr>\n",
       "    <tr>\n",
       "      <th>7</th>\n",
       "      <td>adel</td>\n",
       "      <td>84</td>\n",
       "      <td>1.204</td>\n",
       "      <td>29.167</td>\n",
       "      <td>250</td>\n",
       "    </tr>\n",
       "    <tr>\n",
       "      <th>8</th>\n",
       "      <td>adel</td>\n",
       "      <td>84</td>\n",
       "      <td>1.204</td>\n",
       "      <td>33.333</td>\n",
       "      <td>250</td>\n",
       "    </tr>\n",
       "    <tr>\n",
       "      <th>9</th>\n",
       "      <td>adel</td>\n",
       "      <td>84</td>\n",
       "      <td>1.204</td>\n",
       "      <td>37.500</td>\n",
       "      <td>250</td>\n",
       "    </tr>\n",
       "    <tr>\n",
       "      <th>10</th>\n",
       "      <td>adel</td>\n",
       "      <td>84</td>\n",
       "      <td>1.204</td>\n",
       "      <td>41.667</td>\n",
       "      <td>250</td>\n",
       "    </tr>\n",
       "    <tr>\n",
       "      <th>11</th>\n",
       "      <td>adel</td>\n",
       "      <td>84</td>\n",
       "      <td>1.204</td>\n",
       "      <td>45.833</td>\n",
       "      <td>250</td>\n",
       "    </tr>\n",
       "    <tr>\n",
       "      <th>12</th>\n",
       "      <td>adel</td>\n",
       "      <td>84</td>\n",
       "      <td>1.204</td>\n",
       "      <td>54.167</td>\n",
       "      <td>250</td>\n",
       "    </tr>\n",
       "    <tr>\n",
       "      <th>13</th>\n",
       "      <td>adel</td>\n",
       "      <td>84</td>\n",
       "      <td>1.204</td>\n",
       "      <td>58.333</td>\n",
       "      <td>250</td>\n",
       "    </tr>\n",
       "    <tr>\n",
       "      <th>14</th>\n",
       "      <td>adel</td>\n",
       "      <td>84</td>\n",
       "      <td>1.204</td>\n",
       "      <td>62.500</td>\n",
       "      <td>250</td>\n",
       "    </tr>\n",
       "    <tr>\n",
       "      <th>15</th>\n",
       "      <td>adel</td>\n",
       "      <td>84</td>\n",
       "      <td>1.204</td>\n",
       "      <td>66.667</td>\n",
       "      <td>250</td>\n",
       "    </tr>\n",
       "    <tr>\n",
       "      <th>16</th>\n",
       "      <td>adel</td>\n",
       "      <td>84</td>\n",
       "      <td>1.204</td>\n",
       "      <td>75.000</td>\n",
       "      <td>250</td>\n",
       "    </tr>\n",
       "    <tr>\n",
       "      <th>17</th>\n",
       "      <td>adel</td>\n",
       "      <td>84</td>\n",
       "      <td>1.204</td>\n",
       "      <td>79.167</td>\n",
       "      <td>250</td>\n",
       "    </tr>\n",
       "    <tr>\n",
       "      <th>18</th>\n",
       "      <td>adel</td>\n",
       "      <td>84</td>\n",
       "      <td>1.204</td>\n",
       "      <td>83.333</td>\n",
       "      <td>250</td>\n",
       "    </tr>\n",
       "    <tr>\n",
       "      <th>19</th>\n",
       "      <td>adel</td>\n",
       "      <td>84</td>\n",
       "      <td>1.204</td>\n",
       "      <td>87.500</td>\n",
       "      <td>250</td>\n",
       "    </tr>\n",
       "  </tbody>\n",
       "</table>\n",
       "</div>"
      ],
      "text/plain": [
       "   bomb_name  E(TJ)  rho(kg/m^3)   t(ms)  r(m)\n",
       "0       adel     84        1.204   0.000     0\n",
       "1       adel     84        1.204   4.167   250\n",
       "2       adel     84        1.204   8.333   250\n",
       "3       adel     84        1.204  12.500   250\n",
       "4       adel     84        1.204  16.667   250\n",
       "5       adel     84        1.204  20.833   250\n",
       "6       adel     84        1.204  25.000   250\n",
       "7       adel     84        1.204  29.167   250\n",
       "8       adel     84        1.204  33.333   250\n",
       "9       adel     84        1.204  37.500   250\n",
       "10      adel     84        1.204  41.667   250\n",
       "11      adel     84        1.204  45.833   250\n",
       "12      adel     84        1.204  54.167   250\n",
       "13      adel     84        1.204  58.333   250\n",
       "14      adel     84        1.204  62.500   250\n",
       "15      adel     84        1.204  66.667   250\n",
       "16      adel     84        1.204  75.000   250\n",
       "17      adel     84        1.204  79.167   250\n",
       "18      adel     84        1.204  83.333   250\n",
       "19      adel     84        1.204  87.500   250"
      ]
     },
     "execution_count": 5,
     "metadata": {},
     "output_type": "execute_result"
    }
   ],
   "source": [
    "filteredData = rawData[rawData['fictive'] == False].reset_index().drop(columns=['index','fictive','doubleFictive'])\n",
    "filteredData.head(20)"
   ]
  },
  {
   "cell_type": "markdown",
   "id": "a1e5b3b9-7c73-4012-bb1e-639d744b69d0",
   "metadata": {},
   "source": [
    "**Part c: Konstanta Persamaan**\n",
    "\n",
    "Ubah Satuan Data Menjadi Satuan SI"
   ]
  },
  {
   "cell_type": "code",
   "execution_count": 6,
   "id": "58d6e4ed-0331-4516-b013-783810503765",
   "metadata": {
    "scrolled": true
   },
   "outputs": [
    {
     "data": {
      "text/html": [
       "<div>\n",
       "<style scoped>\n",
       "    .dataframe tbody tr th:only-of-type {\n",
       "        vertical-align: middle;\n",
       "    }\n",
       "\n",
       "    .dataframe tbody tr th {\n",
       "        vertical-align: top;\n",
       "    }\n",
       "\n",
       "    .dataframe thead th {\n",
       "        text-align: right;\n",
       "    }\n",
       "</style>\n",
       "<table border=\"1\" class=\"dataframe\">\n",
       "  <thead>\n",
       "    <tr style=\"text-align: right;\">\n",
       "      <th></th>\n",
       "      <th>bomb_name</th>\n",
       "      <th>E</th>\n",
       "      <th>rho</th>\n",
       "      <th>t</th>\n",
       "      <th>r</th>\n",
       "    </tr>\n",
       "  </thead>\n",
       "  <tbody>\n",
       "    <tr>\n",
       "      <th>0</th>\n",
       "      <td>adel</td>\n",
       "      <td>8.400000e+13</td>\n",
       "      <td>1.204</td>\n",
       "      <td>0.000000</td>\n",
       "      <td>0</td>\n",
       "    </tr>\n",
       "    <tr>\n",
       "      <th>1</th>\n",
       "      <td>adel</td>\n",
       "      <td>8.400000e+13</td>\n",
       "      <td>1.204</td>\n",
       "      <td>0.004167</td>\n",
       "      <td>250</td>\n",
       "    </tr>\n",
       "    <tr>\n",
       "      <th>2</th>\n",
       "      <td>adel</td>\n",
       "      <td>8.400000e+13</td>\n",
       "      <td>1.204</td>\n",
       "      <td>0.008333</td>\n",
       "      <td>250</td>\n",
       "    </tr>\n",
       "    <tr>\n",
       "      <th>3</th>\n",
       "      <td>adel</td>\n",
       "      <td>8.400000e+13</td>\n",
       "      <td>1.204</td>\n",
       "      <td>0.012500</td>\n",
       "      <td>250</td>\n",
       "    </tr>\n",
       "    <tr>\n",
       "      <th>4</th>\n",
       "      <td>adel</td>\n",
       "      <td>8.400000e+13</td>\n",
       "      <td>1.204</td>\n",
       "      <td>0.016667</td>\n",
       "      <td>250</td>\n",
       "    </tr>\n",
       "  </tbody>\n",
       "</table>\n",
       "</div>"
      ],
      "text/plain": [
       "  bomb_name             E    rho         t    r\n",
       "0      adel  8.400000e+13  1.204  0.000000    0\n",
       "1      adel  8.400000e+13  1.204  0.004167  250\n",
       "2      adel  8.400000e+13  1.204  0.008333  250\n",
       "3      adel  8.400000e+13  1.204  0.012500  250\n",
       "4      adel  8.400000e+13  1.204  0.016667  250"
      ]
     },
     "execution_count": 6,
     "metadata": {},
     "output_type": "execute_result"
    }
   ],
   "source": [
    "filteredData.columns = ['bomb_name', 'E', 'rho', 't', 'r']\n",
    "\n",
    "filteredData['E'] = filteredData['E'] * 1000000000000.0\n",
    "filteredData['t'] = filteredData['t'] / 1000.0\n",
    "\n",
    "filteredData.head()"
   ]
  },
  {
   "cell_type": "markdown",
   "id": "5f4d5921-6be4-4b1c-9b40-0c06e0f85cd8",
   "metadata": {},
   "source": [
    "Untuk satu bom yang berjenis sama, rapat udara dan energi konstan, sedangkan waktu dan jari-jari ledakan bervariasi."
   ]
  },
  {
   "cell_type": "markdown",
   "id": "0921bbc8-4ad2-48c4-a4fa-74b196a80ced",
   "metadata": {},
   "source": [
    "Cari Banyak Jenis Bom"
   ]
  },
  {
   "cell_type": "code",
   "execution_count": 7,
   "id": "94cbf517-6b0e-4fc9-ac8a-a71e023dafb8",
   "metadata": {},
   "outputs": [
    {
     "data": {
      "text/plain": [
       "array(['adel', 'fahmi', 'ica'], dtype=object)"
      ]
     },
     "execution_count": 7,
     "metadata": {},
     "output_type": "execute_result"
    }
   ],
   "source": [
    "filteredData['bomb_name'].unique()"
   ]
  },
  {
   "cell_type": "markdown",
   "id": "ec47692b-38a5-4b28-8920-d400467a2a67",
   "metadata": {},
   "source": [
    "Terdapat 3 jenis bom: Adel, Famhi, dan Ica\n",
    "\n",
    "Waktu merupakan variabel bebas, sedangkan jari-jari ledakan merupakan variabel terikat.\n",
    "\n",
    "r = c * (E * t^2 / rho)^(1/5)\n",
    "\n",
    "c = r / (E * t^2 / rho)^(1/5)\n",
    "\n",
    "Hitung Nilai Numerik c"
   ]
  },
  {
   "cell_type": "code",
   "execution_count": 8,
   "id": "352f9385-72a9-4c29-8bb6-46d814528477",
   "metadata": {
    "scrolled": true
   },
   "outputs": [
    {
     "data": {
      "text/html": [
       "<div>\n",
       "<style scoped>\n",
       "    .dataframe tbody tr th:only-of-type {\n",
       "        vertical-align: middle;\n",
       "    }\n",
       "\n",
       "    .dataframe tbody tr th {\n",
       "        vertical-align: top;\n",
       "    }\n",
       "\n",
       "    .dataframe thead th {\n",
       "        text-align: right;\n",
       "    }\n",
       "</style>\n",
       "<table border=\"1\" class=\"dataframe\">\n",
       "  <thead>\n",
       "    <tr style=\"text-align: right;\">\n",
       "      <th></th>\n",
       "      <th>bomb_name</th>\n",
       "      <th>E</th>\n",
       "      <th>rho</th>\n",
       "      <th>t</th>\n",
       "      <th>r</th>\n",
       "      <th>c</th>\n",
       "    </tr>\n",
       "  </thead>\n",
       "  <tbody>\n",
       "    <tr>\n",
       "      <th>0</th>\n",
       "      <td>adel</td>\n",
       "      <td>8.400000e+13</td>\n",
       "      <td>1.204</td>\n",
       "      <td>0.000000</td>\n",
       "      <td>0</td>\n",
       "      <td>NaN</td>\n",
       "    </tr>\n",
       "    <tr>\n",
       "      <th>1</th>\n",
       "      <td>adel</td>\n",
       "      <td>8.400000e+13</td>\n",
       "      <td>1.204</td>\n",
       "      <td>0.004167</td>\n",
       "      <td>250</td>\n",
       "      <td>3.813116</td>\n",
       "    </tr>\n",
       "    <tr>\n",
       "      <th>2</th>\n",
       "      <td>adel</td>\n",
       "      <td>8.400000e+13</td>\n",
       "      <td>1.204</td>\n",
       "      <td>0.008333</td>\n",
       "      <td>250</td>\n",
       "      <td>2.889940</td>\n",
       "    </tr>\n",
       "    <tr>\n",
       "      <th>3</th>\n",
       "      <td>adel</td>\n",
       "      <td>8.400000e+13</td>\n",
       "      <td>1.204</td>\n",
       "      <td>0.012500</td>\n",
       "      <td>250</td>\n",
       "      <td>2.457228</td>\n",
       "    </tr>\n",
       "    <tr>\n",
       "      <th>4</th>\n",
       "      <td>adel</td>\n",
       "      <td>8.400000e+13</td>\n",
       "      <td>1.204</td>\n",
       "      <td>0.016667</td>\n",
       "      <td>250</td>\n",
       "      <td>2.190113</td>\n",
       "    </tr>\n",
       "  </tbody>\n",
       "</table>\n",
       "</div>"
      ],
      "text/plain": [
       "  bomb_name             E    rho         t    r         c\n",
       "0      adel  8.400000e+13  1.204  0.000000    0       NaN\n",
       "1      adel  8.400000e+13  1.204  0.004167  250  3.813116\n",
       "2      adel  8.400000e+13  1.204  0.008333  250  2.889940\n",
       "3      adel  8.400000e+13  1.204  0.012500  250  2.457228\n",
       "4      adel  8.400000e+13  1.204  0.016667  250  2.190113"
      ]
     },
     "execution_count": 8,
     "metadata": {},
     "output_type": "execute_result"
    }
   ],
   "source": [
    "filteredData['c'] = filteredData['r'] / pow(filteredData['E'] * filteredData['t'] * filteredData['t'] / filteredData['rho'], 1/5)\n",
    "filteredData.head()"
   ]
  },
  {
   "cell_type": "markdown",
   "id": "c7795abb-dda8-43cd-bf21-7c52a141c70e",
   "metadata": {},
   "source": [
    "Grafik Nilai Jari-jari Ledakan Terhadap Waktu untuk Setiap Jenis Bom"
   ]
  },
  {
   "cell_type": "code",
   "execution_count": 9,
   "id": "ac3a4c92-4289-426e-b7de-c93acea1d21d",
   "metadata": {
    "scrolled": true
   },
   "outputs": [
    {
     "data": {
      "text/plain": [
       "<matplotlib.legend.Legend at 0x203119d3800>"
      ]
     },
     "execution_count": 9,
     "metadata": {},
     "output_type": "execute_result"
    },
    {
     "data": {
      "image/png": "[encoded data removed]",
      "text/plain": [
       "<Figure size 640x480 with 1 Axes>"
      ]
     },
     "metadata": {},
     "output_type": "display_data"
    }
   ],
   "source": [
    "plt.title('Jari-jari v.s. Waktu')\n",
    "\n",
    "for bomb in ['adel', 'fahmi', 'ica']:\n",
    "    indivData = filteredData[filteredData['bomb_name'] == bomb]\n",
    "    \n",
    "    plt.plot(indivData['t'], indivData['r'])\n",
    "    plt.xlabel('t (s)')\n",
    "    plt.ylabel('r (m)')\n",
    "\n",
    "plt.legend([\"adel\", \"fahmi\", \"ica\"])"
   ]
  },
  {
   "cell_type": "markdown",
   "id": "6a42b938-7ba4-4ee5-a326-51f0a48146d0",
   "metadata": {},
   "source": [
    "Grafik Nilai c Terhadap Waktu Berdasarkan Nama Bom untuk Setiap Percobaan"
   ]
  },
  {
   "cell_type": "code",
   "execution_count": 10,
   "id": "bc96cb2d-3bcc-49db-a07e-1f01a00d4d2e",
   "metadata": {},
   "outputs": [
    {
     "data": {
      "text/plain": [
       "<matplotlib.legend.Legend at 0x203119d2960>"
      ]
     },
     "execution_count": 10,
     "metadata": {},
     "output_type": "execute_result"
    },
    {
     "data": {
      "image/png": "[encoded data removed]",
      "text/plain": [
       "<Figure size 640x480 with 1 Axes>"
      ]
     },
     "metadata": {},
     "output_type": "display_data"
    }
   ],
   "source": [
    "plt.title('c v.s. Waktu')\n",
    "\n",
    "for bomb in ['adel', 'fahmi', 'ica']:\n",
    "    indivData = filteredData[filteredData['bomb_name'] == bomb]\n",
    "    \n",
    "    plt.plot(indivData['t'], indivData['c'])\n",
    "    plt.xlabel('t (s)')\n",
    "    plt.ylabel('c')\n",
    "\n",
    "plt.legend([\"adel\", \"fahmi\", \"ica\"])"
   ]
  },
  {
   "cell_type": "markdown",
   "id": "957090ff-b5aa-404f-ac5a-59b73f0d4f61",
   "metadata": {},
   "source": [
    "Nilai Rata-rata c untuk Setiap Bom"
   ]
  },
  {
   "cell_type": "code",
   "execution_count": 11,
   "id": "55ad7ce5-6d11-472e-842a-67d38e1de977",
   "metadata": {},
   "outputs": [
    {
     "name": "stdout",
     "output_type": "stream",
     "text": [
      "Nilai rata-rata c untuk bom adel adalah 1.2117342677424765\n",
      "Nilai rata-rata c untuk bom fahmi adalah 1.1724479802800822\n",
      "Nilai rata-rata c untuk bom ica adalah 1.0870543207491161\n"
     ]
    }
   ],
   "source": [
    "for bomb in ['adel', 'fahmi', 'ica']:\n",
    "    indivData = filteredData[filteredData['bomb_name'] == bomb]\n",
    "    print(\"Nilai rata-rata c untuk bom \" + bomb + \" adalah \" + str(indivData['c'].mean()))"
   ]
  },
  {
   "cell_type": "markdown",
   "id": "d2d0aec1-5cdd-4451-adeb-7c933a7932b8",
   "metadata": {},
   "source": [
    "Nilai Rata-rata c Total"
   ]
  },
  {
   "cell_type": "code",
   "execution_count": 12,
   "id": "9039d6e9-bd5d-4900-a0a1-8382dcb90a6b",
   "metadata": {},
   "outputs": [
    {
     "data": {
      "text/plain": [
       "np.float64(1.158131951560023)"
      ]
     },
     "execution_count": 12,
     "metadata": {},
     "output_type": "execute_result"
    }
   ],
   "source": [
    "filteredData['c'].mean()"
   ]
  },
  {
   "cell_type": "markdown",
   "id": "93d5dad3-1fe2-4da0-8f49-b2e3443a451b",
   "metadata": {},
   "source": [
    "Nilai rata-rata c adalah **1.158131951560023**, atau dapat dibulatkan menjadi **1.16**\n",
    "\n",
    "**Part d: Uji Coba Bom Komersial**\n",
    "\n",
    "Telah diketahui:\n",
    "- c = 1.16\n",
    "- E = 1 TJ, 2 TJ, dan 3 TJ\n",
    "- rho = 1 kg/m^3\n",
    "- t = 0 s ke 1 s\n",
    "- r = c (E/rho t^2)^(1/5)\n",
    "\n",
    "**Grafik Jari-jari Ledakan v.s. Waktu Untuk Setiap Energi Ledakan**"
   ]
  },
  {
   "cell_type": "code",
   "execution_count": 13,
   "id": "bde44196-4e1c-4c36-85d3-f826f153c2cf",
   "metadata": {
    "collapsed": true,
    "jupyter": {
     "outputs_hidden": true
    }
   },
   "outputs": [
    {
     "data": {
      "text/plain": [
       "<matplotlib.legend.Legend at 0x20311b2d790>"
      ]
     },
     "execution_count": 13,
     "metadata": {},
     "output_type": "execute_result"
    },
    {
     "data": {
      "image/png": "[encoded data removed]",
      "text/plain": [
       "<Figure size 640x480 with 1 Axes>"
      ]
     },
     "metadata": {},
     "output_type": "display_data"
    }
   ],
   "source": [
    "for energy in [1000000000000, 2000000000000, 3000000000000]:\n",
    "    t = np.arange(0, 1, 0.001)\n",
    "    r = 1.16 * pow(energy * t * t, 1/5)\n",
    "    plt.plot(t, r)\n",
    "    plt.xlabel('t (s)')\n",
    "    plt.ylabel('r (m)')\n",
    "    plt.title('Jari-jari v.s. Waktu')\n",
    "\n",
    "plt.legend(['1 TJ', '2 TJ', '3 TJ'])"
   ]
  }
 ],
 "metadata": {
  "kernelspec": {
   "display_name": "Python 3 (ipykernel)",
   "language": "python",
   "name": "python3"
  },
  "language_info": {
   "codemirror_mode": {
    "name": "ipython",
    "version": 3
   },
   "file_extension": ".py",
   "mimetype": "text/x-python",
   "name": "python",
   "nbconvert_exporter": "python",
   "pygments_lexer": "ipython3",
   "version": "3.12.4"
  }
 },
 "nbformat": 4,
 "nbformat_minor": 5
}
